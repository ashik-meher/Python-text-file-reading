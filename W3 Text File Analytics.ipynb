{
 "cells": [
  {
   "cell_type": "code",
   "execution_count": 3,
   "metadata": {},
   "outputs": [
    {
     "name": "stdout",
     "output_type": "stream",
     "text": [
      "letter  :  114\n",
      "small  :  58\n",
      "capital  :  56\n",
      "with  :  55\n",
      "sign  :  21\n",
      "a  :  15\n",
      "o  :  14\n",
      "acute  :  13\n",
      "diaeresis  :  12\n",
      "grave  :  11\n"
     ]
    }
   ],
   "source": [
    "import collections\n",
    "\n",
    "file = open(\"w3school.txt\",encoding = \"UTF-8\")\n",
    "\n",
    "w3wordcount = {}\n",
    "\n",
    "for sobdo in file.read().lower().split():\n",
    "    sobdo = sobdo.replace(\".\",\"\")\n",
    "    sobdo = sobdo.replace(\",\",\"\")\n",
    "    sobdo = sobdo.replace(\"(\",\"\")\n",
    "    sobdo = sobdo.replace(\")\",\"\")\n",
    "    sobdo = sobdo.replace(\"-\",\"\")\n",
    "    \n",
    "    if sobdo not in w3wordcount:\n",
    "        w3wordcount[sobdo] = 1\n",
    "    else: \n",
    "        w3wordcount[sobdo] += 1\n",
    "        \n",
    "#print(w3wordcount)\n",
    "\n",
    "#using collections module and Counter() tool for top occured sequences, stored in a variable named pori(porisongkhan)\n",
    "\n",
    "pori = collections.Counter(w3wordcount)\n",
    "\n",
    "#using most_common() function to extract the most common occurences\n",
    "\n",
    "for sobdo,kotobar in pori.most_common(10):\n",
    "    print(sobdo,\" : \", kotobar )\n",
    "\n",
    "\n",
    "\n"
   ]
  },
  {
   "cell_type": "code",
   "execution_count": null,
   "metadata": {},
   "outputs": [],
   "source": []
  }
 ],
 "metadata": {
  "kernelspec": {
   "display_name": "Python 3",
   "language": "python",
   "name": "python3"
  },
  "language_info": {
   "codemirror_mode": {
    "name": "ipython",
    "version": 3
   },
   "file_extension": ".py",
   "mimetype": "text/x-python",
   "name": "python",
   "nbconvert_exporter": "python",
   "pygments_lexer": "ipython3",
   "version": "3.7.6"
  }
 },
 "nbformat": 4,
 "nbformat_minor": 4
}
